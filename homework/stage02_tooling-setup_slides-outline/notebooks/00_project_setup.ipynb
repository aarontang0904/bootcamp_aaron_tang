{
 "cells": [
  {
   "cell_type": "markdown",
   "id": "3b01e9d2",
   "metadata": {},
   "source": [
    "<h1>Environment & Config Check</h1>"
   ]
  },
  {
   "cell_type": "code",
   "execution_count": 8,
   "id": "6dd68387",
   "metadata": {},
   "outputs": [
    {
     "name": "stdout",
     "output_type": "stream",
     "text": [
      "API_KEY present: True\n"
     ]
    }
   ],
   "source": [
    "import sys\n",
    "import os\n",
    "\n",
    "sys.path.append(os.path.abspath(\"..\"))\n",
    "from src.config import load_env, get_key\n",
    "\n",
    "load_env()\n",
    "\n",
    "api_key_present = get_key(\"API_KEY\") is not None\n",
    "print(\"API_KEY present:\", api_key_present)\n"
   ]
  },
  {
   "cell_type": "code",
   "execution_count": 10,
   "id": "50e1d4dc",
   "metadata": {},
   "outputs": [
    {
     "name": "stdout",
     "output_type": "stream",
     "text": [
      "Original array: [1 2 3 4 5]\n",
      "Squared: [ 1  4  9 16 25]\n",
      "Sum: 15\n",
      "Mean: 3.0\n"
     ]
    }
   ],
   "source": [
    "import numpy as np\n",
    "\n",
    "a = np.array([1, 2, 3, 4, 5])\n",
    "\n",
    "print(\"Original array:\", a)\n",
    "print(\"Squared:\", a**2)\n",
    "print(\"Sum:\", a.sum())\n",
    "print(\"Mean:\", a.mean())"
   ]
  },
  {
   "cell_type": "markdown",
   "id": "83aa8ca8",
   "metadata": {},
   "source": []
  }
 ],
 "metadata": {
  "kernelspec": {
   "display_name": "bootcamp_env",
   "language": "python",
   "name": "python3"
  },
  "language_info": {
   "codemirror_mode": {
    "name": "ipython",
    "version": 3
   },
   "file_extension": ".py",
   "mimetype": "text/x-python",
   "name": "python",
   "nbconvert_exporter": "python",
   "pygments_lexer": "ipython3",
   "version": "3.10.18"
  }
 },
 "nbformat": 4,
 "nbformat_minor": 5
}
